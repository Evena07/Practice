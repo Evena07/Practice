{
 "cells": [
  {
   "cell_type": "markdown",
   "id": "df27b17d-d8d5-4b66-8244-3b8401d56869",
   "metadata": {},
   "source": [
    "# Data Science Tools and Ecosystem"
   ]
  },
  {
   "cell_type": "markdown",
   "id": "3d061b17-c6e4-4df9-b1e7-4fd14067bb88",
   "metadata": {},
   "source": [
    "In this notebook, Data Science Tools and Ecosystem are summarized."
   ]
  },
  {
   "cell_type": "markdown",
   "id": "5ae342aa-a6df-445b-88da-aecfd0b1793c",
   "metadata": {},
   "source": [
    "Objectives:\n",
    "\n",
    "- List popular languages for Data Science.\n",
    "- List popular libraries for Data Science.\n",
    "- List some Data Science tools\n",
    "- Evaluate Arithmetric expressions in python"
   ]
  },
  {
   "cell_type": "markdown",
   "id": "ffc7831a-ff65-4169-be39-b8c3354d1499",
   "metadata": {},
   "source": [
    "Some of the popular languages that Data Scientists use are:\n",
    "- Python\n",
    "- R\n",
    "- SQL"
   ]
  },
  {
   "cell_type": "markdown",
   "id": "92503e16-afce-46d4-9d47-4d0c9b430fd0",
   "metadata": {},
   "source": [
    "Some of the commonly used libraries used by Data Scientists include:\n",
    "\n",
    "- Numpy\n",
    "- Matplotlib\n",
    "- Pandas"
   ]
  },
  {
   "cell_type": "markdown",
   "id": "ab445004-7bee-4467-a84e-95429070c3b8",
   "metadata": {},
   "source": [
    "| Data Science Tool |\n",
    "|-------------------|\n",
    "| Jupyter Notebook |\n",
    "| Visual Studio Code |\n",
    "| Apache Zeppelin |"
   ]
  },
  {
   "cell_type": "markdown",
   "id": "69105c68-7dc9-49b1-8e75-4a27209dfa1f",
   "metadata": {},
   "source": [
    "### Below are a few examples of evaluating arithmetic expressions in Python"
   ]
  },
  {
   "cell_type": "markdown",
   "id": "045301c4-2d8b-468e-88b3-62353ef05353",
   "metadata": {},
   "source": [
    "This a simple arithmetic expression to mutiply then add integers"
   ]
  },
  {
   "cell_type": "code",
   "execution_count": 1,
   "id": "7d99195e-fb41-4013-b5e8-e67cc95765d7",
   "metadata": {},
   "outputs": [
    {
     "data": {
      "text/plain": [
       "17"
      ]
     },
     "execution_count": 1,
     "metadata": {},
     "output_type": "execute_result"
    }
   ],
   "source": [
    "(3*4)+5"
   ]
  },
  {
   "cell_type": "markdown",
   "id": "30549102-35e6-4089-94d1-3a9df785e7cc",
   "metadata": {},
   "source": [
    "This will convert 200 minutes to hours by diving by 60"
   ]
  },
  {
   "cell_type": "code",
   "execution_count": 3,
   "id": "ee504937-0763-412d-bcdb-9d0433ac0fb0",
   "metadata": {},
   "outputs": [
    {
     "data": {
      "text/plain": [
       "3.3333333333333335"
      ]
     },
     "execution_count": 3,
     "metadata": {},
     "output_type": "execute_result"
    }
   ],
   "source": [
    "200 / 60  "
   ]
  },
  {
   "cell_type": "markdown",
   "id": "d1a24d0f-0496-4342-98a3-236727f332ed",
   "metadata": {},
   "source": [
    "## Author \n",
    "Naomi Eveshotomete Alle"
   ]
  },
  {
   "cell_type": "code",
   "execution_count": null,
   "id": "4d56047a-0988-445d-8edb-7f097ab57093",
   "metadata": {},
   "outputs": [],
   "source": []
  }
 ],
 "metadata": {
  "kernelspec": {
   "display_name": "Python 3 (ipykernel)",
   "language": "python",
   "name": "python3"
  },
  "language_info": {
   "codemirror_mode": {
    "name": "ipython",
    "version": 3
   },
   "file_extension": ".py",
   "mimetype": "text/x-python",
   "name": "python",
   "nbconvert_exporter": "python",
   "pygments_lexer": "ipython3",
   "version": "3.12.8"
  }
 },
 "nbformat": 4,
 "nbformat_minor": 5
}
